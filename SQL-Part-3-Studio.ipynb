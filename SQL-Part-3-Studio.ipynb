{
    "metadata": {
        "kernelspec": {
            "name": "SQL",
            "display_name": "SQL",
            "language": "sql"
        },
        "language_info": {
            "name": "sql",
            "version": ""
        },
        "extensions": {
            "azuredatastudio": {
                "version": 1,
                "views": []
            }
        }
    },
    "nbformat_minor": 2,
    "nbformat": 4,
    "cells": [
        {
            "cell_type": "markdown",
            "source": [
                "# SQL Part 3 Studio\n",
                "\n",
                "### Let's practice your SQL quering skills!  For each question, work along in the notebook adding your query and answering the questions. \n",
                "\n",
                "### **DataSet**\n",
                "\n",
                "### <span style=\"font-size: 14px; font-family: -apple-system, BlinkMacSystemFont, sans-serif;\">We will be using the Goodbooks-10k dataset from the exercises in the prep work.&nbsp; Feel free reference your previous notebooks.</span>\n",
                "\n",
                "- The dataset can be found here: [goodbooks-10k](https://www.kaggle.com/zygmunt/goodbooks-10k)\n",
                "- You can access the **BooksDB** in the Launchcode server.\n",
                "\n",
                "### **Business Issue**\n",
                "\n",
                "You are an employee at a small independet bookstore and you have been tasked to increase sales.  You decide to use the BooksDB to find books and themes to highlight in fun promotions throughout each month / season.  We will be starting with March and then you will have a chance to explore another month of your choosing.  We want to come up with a list of events/ promotions to run each month.  If you are looking for ideas to include in your promotions:\n",
                "\n",
                "- [https://www.calendarr.com/united-states/calendar-2022/](https://www.calendarr.com/united-states/calendar-2022/)\n",
                "- [https://www.holidayinsights.com/moreholidays/](https://www.holidayinsights.com/moreholidays/)\n",
                "    - Click on a month and it will take you to a more detailed page"
            ],
            "metadata": {
                "azdata_cell_guid": "b9034d8a-b631-48bf-a895-1012a6ffa784"
            },
            "attachments": {}
        },
        {
            "cell_type": "markdown",
            "source": [
                "## Part 1:  March - Women's History Month, Dr Seuss Day(3/2), National Pie Day3/14, St Patrick's Day (3/17), Season - Spring"
            ],
            "metadata": {
                "azdata_cell_guid": "6e55eb1c-4a14-4076-90d2-95ed17a6309f"
            },
            "attachments": {}
        },
        {
            "cell_type": "markdown",
            "source": [
                "### **Event 1:** Women's History Month\n",
                "\n",
                "Goal: Highlight Popular Womans Authors based on ratings from the Good Reads DB.\n",
                "\n",
                "### **Write a query that returns tag\\_id, the number of times each tag\\_id is used and the tag\\_name.**  \n",
                "\n",
                "### Use the GROUP BY and HAVING clause to narrow your focus.\n",
                "\n",
                "Try multiple keywords, ie woman vs female (female ended up giving better results)"
            ],
            "metadata": {
                "azdata_cell_guid": "d220c097-e9cf-4edd-9abe-312d071217b7"
            },
            "attachments": {}
        },
        {
            "cell_type": "code",
            "source": [
                "SELECT TOP(100) t.tag_id ,COUNT(*) AS times_used ,ta.tag_name\n",
                "FROM BooksDB.dbo.book_tags AS t\n",
                "FULL JOIN BooksDB.dbo.tags AS ta\n",
                "ON t.tag_id=ta.tag_id\n",
                "GROUP BY t.tag_id,ta.tag_name\n",
                "HAVING ta.tag_name LIKE '%female%'\n",
                "ORDER BY t.tag_id\n",
                "\n",
                "\n",
                ""
            ],
            "metadata": {
                "azdata_cell_guid": "e31b9d26-0386-44c7-828e-85f4f06f3ee6",
                "tags": [],
                "language": "sql"
            },
            "outputs": [
                {
                    "output_type": "display_data",
                    "data": {
                        "text/html": "(35 rows affected)"
                    },
                    "metadata": {}
                },
                {
                    "output_type": "display_data",
                    "data": {
                        "text/html": "Total execution time: 00:00:00.335"
                    },
                    "metadata": {}
                },
                {
                    "output_type": "execute_result",
                    "metadata": {},
                    "execution_count": 13,
                    "data": {
                        "application/vnd.dataresource+json": {
                            "schema": {
                                "fields": [
                                    {
                                        "name": "tag_id"
                                    },
                                    {
                                        "name": "times_used"
                                    },
                                    {
                                        "name": "tag_name"
                                    }
                                ]
                            },
                            "data": [
                                {
                                    "tag_id": "1741",
                                    "times_used": "1",
                                    "tag_name": "afghan-female-entrepreneur-under-ta"
                                },
                                {
                                    "tag_id": "3514",
                                    "times_used": "12",
                                    "tag_name": "author-female"
                                },
                                {
                                    "tag_id": "4309",
                                    "times_used": "1",
                                    "tag_name": "best-adult-female-friendship-books"
                                },
                                {
                                    "tag_id": "11642",
                                    "times_used": "17",
                                    "tag_name": "female"
                                },
                                {
                                    "tag_id": "11643",
                                    "times_used": "997",
                                    "tag_name": "female-author"
                                },
                                {
                                    "tag_id": "11644",
                                    "times_used": "721",
                                    "tag_name": "female-authors"
                                },
                                {
                                    "tag_id": "11645",
                                    "times_used": "2",
                                    "tag_name": "female-biographies"
                                },
                                {
                                    "tag_id": "11646",
                                    "times_used": "32",
                                    "tag_name": "female-detective"
                                },
                                {
                                    "tag_id": "11647",
                                    "times_used": "9",
                                    "tag_name": "female-detectives"
                                },
                                {
                                    "tag_id": "11648",
                                    "times_used": "1",
                                    "tag_name": "female-doctor"
                                },
                                {
                                    "tag_id": "11649",
                                    "times_used": "1",
                                    "tag_name": "female-fiction"
                                },
                                {
                                    "tag_id": "11650",
                                    "times_used": "4",
                                    "tag_name": "female-friendship"
                                },
                                {
                                    "tag_id": "11651",
                                    "times_used": "1",
                                    "tag_name": "female-genre-authors"
                                },
                                {
                                    "tag_id": "11652",
                                    "times_used": "14",
                                    "tag_name": "female-lead"
                                },
                                {
                                    "tag_id": "11653",
                                    "times_used": "1",
                                    "tag_name": "female-main-character"
                                },
                                {
                                    "tag_id": "11654",
                                    "times_used": "1",
                                    "tag_name": "female-persuasion"
                                },
                                {
                                    "tag_id": "11655",
                                    "times_used": "1",
                                    "tag_name": "female-pi"
                                },
                                {
                                    "tag_id": "11656",
                                    "times_used": "17",
                                    "tag_name": "female-pov"
                                },
                                {
                                    "tag_id": "11657",
                                    "times_used": "1",
                                    "tag_name": "female-povs"
                                },
                                {
                                    "tag_id": "11658",
                                    "times_used": "171",
                                    "tag_name": "female-protagonist"
                                },
                                {
                                    "tag_id": "11659",
                                    "times_used": "1",
                                    "tag_name": "female-serial-killer"
                                },
                                {
                                    "tag_id": "11660",
                                    "times_used": "1",
                                    "tag_name": "female-spy"
                                },
                                {
                                    "tag_id": "11661",
                                    "times_used": "1",
                                    "tag_name": "female-writer"
                                },
                                {
                                    "tag_id": "11662",
                                    "times_used": "18",
                                    "tag_name": "female-writers"
                                },
                                {
                                    "tag_id": "15331",
                                    "times_used": "1",
                                    "tag_name": "important-female-authors"
                                },
                                {
                                    "tag_id": "17079",
                                    "times_used": "1",
                                    "tag_name": "kick-ass-female"
                                },
                                {
                                    "tag_id": "24455",
                                    "times_used": "1",
                                    "tag_name": "protagonist-female"
                                },
                                {
                                    "tag_id": "28830",
                                    "times_used": "4",
                                    "tag_name": "strong-female"
                                },
                                {
                                    "tag_id": "28831",
                                    "times_used": "1",
                                    "tag_name": "strong-female-character"
                                },
                                {
                                    "tag_id": "28832",
                                    "times_used": "1",
                                    "tag_name": "strong-female-character-s"
                                },
                                {
                                    "tag_id": "28833",
                                    "times_used": "3",
                                    "tag_name": "strong-female-characters"
                                },
                                {
                                    "tag_id": "28834",
                                    "times_used": "10",
                                    "tag_name": "strong-female-lead"
                                },
                                {
                                    "tag_id": "28835",
                                    "times_used": "1",
                                    "tag_name": "strong-female-protagonist"
                                },
                                {
                                    "tag_id": "28836",
                                    "times_used": "1",
                                    "tag_name": "strong-female-supporting-characters"
                                },
                                {
                                    "tag_id": "29324",
                                    "times_used": "1",
                                    "tag_name": "tbr-ax-female"
                                }
                            ]
                        },
                        "text/html": [
                            "<table>",
                            "<tr><th>tag_id</th><th>times_used</th><th>tag_name</th></tr>",
                            "<tr><td>1741</td><td>1</td><td>afghan-female-entrepreneur-under-ta</td></tr>",
                            "<tr><td>3514</td><td>12</td><td>author-female</td></tr>",
                            "<tr><td>4309</td><td>1</td><td>best-adult-female-friendship-books</td></tr>",
                            "<tr><td>11642</td><td>17</td><td>female</td></tr>",
                            "<tr><td>11643</td><td>997</td><td>female-author</td></tr>",
                            "<tr><td>11644</td><td>721</td><td>female-authors</td></tr>",
                            "<tr><td>11645</td><td>2</td><td>female-biographies</td></tr>",
                            "<tr><td>11646</td><td>32</td><td>female-detective</td></tr>",
                            "<tr><td>11647</td><td>9</td><td>female-detectives</td></tr>",
                            "<tr><td>11648</td><td>1</td><td>female-doctor</td></tr>",
                            "<tr><td>11649</td><td>1</td><td>female-fiction</td></tr>",
                            "<tr><td>11650</td><td>4</td><td>female-friendship</td></tr>",
                            "<tr><td>11651</td><td>1</td><td>female-genre-authors</td></tr>",
                            "<tr><td>11652</td><td>14</td><td>female-lead</td></tr>",
                            "<tr><td>11653</td><td>1</td><td>female-main-character</td></tr>",
                            "<tr><td>11654</td><td>1</td><td>female-persuasion</td></tr>",
                            "<tr><td>11655</td><td>1</td><td>female-pi</td></tr>",
                            "<tr><td>11656</td><td>17</td><td>female-pov</td></tr>",
                            "<tr><td>11657</td><td>1</td><td>female-povs</td></tr>",
                            "<tr><td>11658</td><td>171</td><td>female-protagonist</td></tr>",
                            "<tr><td>11659</td><td>1</td><td>female-serial-killer</td></tr>",
                            "<tr><td>11660</td><td>1</td><td>female-spy</td></tr>",
                            "<tr><td>11661</td><td>1</td><td>female-writer</td></tr>",
                            "<tr><td>11662</td><td>18</td><td>female-writers</td></tr>",
                            "<tr><td>15331</td><td>1</td><td>important-female-authors</td></tr>",
                            "<tr><td>17079</td><td>1</td><td>kick-ass-female</td></tr>",
                            "<tr><td>24455</td><td>1</td><td>protagonist-female</td></tr>",
                            "<tr><td>28830</td><td>4</td><td>strong-female</td></tr>",
                            "<tr><td>28831</td><td>1</td><td>strong-female-character</td></tr>",
                            "<tr><td>28832</td><td>1</td><td>strong-female-character-s</td></tr>",
                            "<tr><td>28833</td><td>3</td><td>strong-female-characters</td></tr>",
                            "<tr><td>28834</td><td>10</td><td>strong-female-lead</td></tr>",
                            "<tr><td>28835</td><td>1</td><td>strong-female-protagonist</td></tr>",
                            "<tr><td>28836</td><td>1</td><td>strong-female-supporting-characters</td></tr>",
                            "<tr><td>29324</td><td>1</td><td>tbr-ax-female</td></tr>",
                            "</table>"
                        ]
                    }
                }
            ],
            "execution_count": 13
        },
        {
            "cell_type": "code",
            "source": [
                ""
            ],
            "metadata": {
                "language": "sql",
                "azdata_cell_guid": "c6eefba7-f310-4d1a-b8e6-790d3a610ab3"
            },
            "outputs": [],
            "execution_count": null
        },
        {
            "cell_type": "markdown",
            "source": [
                "### **Which keyword(s) and tag(s) would you like to explore more**\n",
                "\n",
                "**line 1 tag\\\\\\_id is female-author-11643**\n",
                "\n",
                "**line 2 tag\\\\\\_id is female -authors-11644**"
            ],
            "metadata": {
                "azdata_cell_guid": "e9acd8b5-a62b-4ac0-bd07-19915b379ba6"
            },
            "attachments": {}
        },
        {
            "cell_type": "markdown",
            "source": [
                "### **Write a query to return authors, titles, ratings and** **selected tag(s)\\_id.**"
            ],
            "metadata": {
                "azdata_cell_guid": "59b84464-c0bc-4dac-9e02-0c803765b063"
            },
            "attachments": {}
        },
        {
            "cell_type": "code",
            "source": [
                "SELECT TOP(20) b.authors,b.title,b.average_rating,t.tag_id\n",
                "FROM BooksDB.dbo.books AS b \n",
                "INNER  JOIN  BooksDB.dbo.book_tags AS t \n",
                "ON b.book_id= t.goodreads_book_id\n",
                "WHERE t.tag_id =11644\n",
                "ORDER BY t.tag_id,b.average_rating DESC;"
            ],
            "metadata": {
                "azdata_cell_guid": "51ffeaaf-6dde-4906-95f3-eb8757babf27",
                "tags": [],
                "language": "sql"
            },
            "outputs": [
                {
                    "output_type": "display_data",
                    "data": {
                        "text/html": "(20 rows affected)"
                    },
                    "metadata": {}
                },
                {
                    "output_type": "display_data",
                    "data": {
                        "text/html": "Total execution time: 00:00:00.129"
                    },
                    "metadata": {}
                },
                {
                    "output_type": "execute_result",
                    "metadata": {},
                    "execution_count": 16,
                    "data": {
                        "application/vnd.dataresource+json": {
                            "schema": {
                                "fields": [
                                    {
                                        "name": "authors"
                                    },
                                    {
                                        "name": "title"
                                    },
                                    {
                                        "name": "average_rating"
                                    },
                                    {
                                        "name": "tag_id"
                                    }
                                ]
                            },
                            "data": [
                                {
                                    "authors": "Jane Austen",
                                    "title": "The Complete Novels",
                                    "average_rating": "4.55",
                                    "tag_id": "11644"
                                },
                                {
                                    "authors": "Robin Hobb",
                                    "title": "Fool's Quest  (The Fitz and The Fool, #2)",
                                    "average_rating": "4.53",
                                    "tag_id": "11644"
                                },
                                {
                                    "authors": "C.S. Pacat",
                                    "title": "Kings Rising (Captive Prince, #3)",
                                    "average_rating": "4.5",
                                    "tag_id": "11644"
                                },
                                {
                                    "authors": "Hiromu Arakawa, Akira Watanabe",
                                    "title": "Fullmetal Alchemist, Vol. 1 (Fullmetal Alchemist, #1)",
                                    "average_rating": "4.49",
                                    "tag_id": "11644"
                                },
                                {
                                    "authors": "Chimamanda Ngozi Adichie",
                                    "title": "We Should All Be Feminists",
                                    "average_rating": "4.47",
                                    "tag_id": "11644"
                                },
                                {
                                    "authors": "Flannery O'Connor",
                                    "title": "The Complete Stories",
                                    "average_rating": "4.44",
                                    "tag_id": "11644"
                                },
                                {
                                    "authors": "Barbara Demick",
                                    "title": "Nothing to Envy: Ordinary Lives in North Korea",
                                    "average_rating": "4.42",
                                    "tag_id": "11644"
                                },
                                {
                                    "authors": "Yaa Gyasi",
                                    "title": "Homegoing",
                                    "average_rating": "4.41",
                                    "tag_id": "11644"
                                },
                                {
                                    "authors": "Elena Ferrante, Ann Goldstein",
                                    "title": "The Story of the Lost Child (The Neapolitan Novels, #4)",
                                    "average_rating": "4.39",
                                    "tag_id": "11644"
                                },
                                {
                                    "authors": "Bernadette Rossetti-Shustak, Caroline Jayne Church",
                                    "title": "I Love You Through and Through",
                                    "average_rating": "4.39",
                                    "tag_id": "11644"
                                },
                                {
                                    "authors": "Elena Ferrante, Ann Goldstein",
                                    "title": "The Story of a New Name (The Neapolitan Novels #2)",
                                    "average_rating": "4.37",
                                    "tag_id": "11644"
                                },
                                {
                                    "authors": "Marjane Satrapi, Mattias Ripa, Blake Ferris, Anjali Singh",
                                    "title": "The Complete Persepolis",
                                    "average_rating": "4.36",
                                    "tag_id": "11644"
                                },
                                {
                                    "authors": "Susan Abulhawa",
                                    "title": "Mornings in Jenin",
                                    "average_rating": "4.35",
                                    "tag_id": "11644"
                                },
                                {
                                    "authors": "Julia Child, Simone Beck, Louisette Bertholle",
                                    "title": "Mastering the Art of French Cooking",
                                    "average_rating": "4.33",
                                    "tag_id": "11644"
                                },
                                {
                                    "authors": "Tamora Pierce",
                                    "title": "Wild Magic (Immortals, #1)",
                                    "average_rating": "4.32",
                                    "tag_id": "11644"
                                },
                                {
                                    "authors": "Enid Blyton",
                                    "title": "The Folk of the Faraway Tree (The Faraway Tree, #3)",
                                    "average_rating": "4.32",
                                    "tag_id": "11644"
                                },
                                {
                                    "authors": "N.K. Jemisin",
                                    "title": "The Fifth Season (The Broken Earth, #1)",
                                    "average_rating": "4.31",
                                    "tag_id": "11644"
                                },
                                {
                                    "authors": "Julia Child",
                                    "title": "The Way to Cook",
                                    "average_rating": "4.31",
                                    "tag_id": "11644"
                                },
                                {
                                    "authors": "Diana Wynne Jones",
                                    "title": "Howl's Moving Castle (Howl's Moving Castle, #1)",
                                    "average_rating": "4.3",
                                    "tag_id": "11644"
                                },
                                {
                                    "authors": "Barbara Shook Hazen, Robert Lewis May, Richard Scarry",
                                    "title": "Rudolph the Red-Nosed Reindeer",
                                    "average_rating": "4.3",
                                    "tag_id": "11644"
                                }
                            ]
                        },
                        "text/html": [
                            "<table>",
                            "<tr><th>authors</th><th>title</th><th>average_rating</th><th>tag_id</th></tr>",
                            "<tr><td>Jane Austen</td><td>The Complete Novels</td><td>4.55</td><td>11644</td></tr>",
                            "<tr><td>Robin Hobb</td><td>Fool&#39;s Quest  (The Fitz and The Fool, #2)</td><td>4.53</td><td>11644</td></tr>",
                            "<tr><td>C.S. Pacat</td><td>Kings Rising (Captive Prince, #3)</td><td>4.5</td><td>11644</td></tr>",
                            "<tr><td>Hiromu Arakawa, Akira Watanabe</td><td>Fullmetal Alchemist, Vol. 1 (Fullmetal Alchemist, #1)</td><td>4.49</td><td>11644</td></tr>",
                            "<tr><td>Chimamanda Ngozi Adichie</td><td>We Should All Be Feminists</td><td>4.47</td><td>11644</td></tr>",
                            "<tr><td>Flannery O&#39;Connor</td><td>The Complete Stories</td><td>4.44</td><td>11644</td></tr>",
                            "<tr><td>Barbara Demick</td><td>Nothing to Envy: Ordinary Lives in North Korea</td><td>4.42</td><td>11644</td></tr>",
                            "<tr><td>Yaa Gyasi</td><td>Homegoing</td><td>4.41</td><td>11644</td></tr>",
                            "<tr><td>Elena Ferrante, Ann Goldstein</td><td>The Story of the Lost Child (The Neapolitan Novels, #4)</td><td>4.39</td><td>11644</td></tr>",
                            "<tr><td>Bernadette Rossetti-Shustak, Caroline Jayne Church</td><td>I Love You Through and Through</td><td>4.39</td><td>11644</td></tr>",
                            "<tr><td>Elena Ferrante, Ann Goldstein</td><td>The Story of a New Name (The Neapolitan Novels #2)</td><td>4.37</td><td>11644</td></tr>",
                            "<tr><td>Marjane Satrapi, Mattias Ripa, Blake Ferris, Anjali Singh</td><td>The Complete Persepolis</td><td>4.36</td><td>11644</td></tr>",
                            "<tr><td>Susan Abulhawa</td><td>Mornings in Jenin</td><td>4.35</td><td>11644</td></tr>",
                            "<tr><td>Julia Child, Simone Beck, Louisette Bertholle</td><td>Mastering the Art of French Cooking</td><td>4.33</td><td>11644</td></tr>",
                            "<tr><td>Tamora Pierce</td><td>Wild Magic (Immortals, #1)</td><td>4.32</td><td>11644</td></tr>",
                            "<tr><td>Enid Blyton</td><td>The Folk of the Faraway Tree (The Faraway Tree, #3)</td><td>4.32</td><td>11644</td></tr>",
                            "<tr><td>N.K. Jemisin</td><td>The Fifth Season (The Broken Earth, #1)</td><td>4.31</td><td>11644</td></tr>",
                            "<tr><td>Julia Child</td><td>The Way to Cook</td><td>4.31</td><td>11644</td></tr>",
                            "<tr><td>Diana Wynne Jones</td><td>Howl&#39;s Moving Castle (Howl&#39;s Moving Castle, #1)</td><td>4.3</td><td>11644</td></tr>",
                            "<tr><td>Barbara Shook Hazen, Robert Lewis May, Richard Scarry</td><td>Rudolph the Red-Nosed Reindeer</td><td>4.3</td><td>11644</td></tr>",
                            "</table>"
                        ]
                    }
                }
            ],
            "execution_count": 16
        },
        {
            "cell_type": "markdown",
            "source": [
                "### **Record your thoughts about why you wrote the query the way you did.**\n",
                "\n",
                "**EVENT  2 choose another event from month**"
            ],
            "metadata": {
                "azdata_cell_guid": "1e19a72c-1bca-446b-a0c7-a8efbc35dcf1"
            },
            "attachments": {}
        },
        {
            "cell_type": "code",
            "source": [
                "SELECT TOP(100) t.tag_id ,COUNT(*) AS times_used ,ta.tag_name\n",
                "FROM BooksDB.dbo.book_tags AS t\n",
                "FULL JOIN BooksDB.dbo.tags AS ta\n",
                "ON t.tag_id=ta.tag_id\n",
                "GROUP BY t.tag_id,ta.tag_name\n",
                "HAVING ta.tag_name LIKE '%math%'\n",
                "ORDER BY times_used DESC;\n",
                ""
            ],
            "metadata": {
                "azdata_cell_guid": "340a6f1b-92f0-488f-92bc-f96e1b25050b",
                "language": "sql"
            },
            "outputs": [
                {
                    "output_type": "display_data",
                    "data": {
                        "text/html": "(28 rows affected)"
                    },
                    "metadata": {}
                },
                {
                    "output_type": "display_data",
                    "data": {
                        "text/html": "Total execution time: 00:00:00.454"
                    },
                    "metadata": {}
                },
                {
                    "output_type": "execute_result",
                    "metadata": {},
                    "execution_count": 17,
                    "data": {
                        "application/vnd.dataresource+json": {
                            "schema": {
                                "fields": [
                                    {
                                        "name": "tag_id"
                                    },
                                    {
                                        "name": "times_used"
                                    },
                                    {
                                        "name": "tag_name"
                                    }
                                ]
                            },
                            "data": [
                                {
                                    "tag_id": "19452",
                                    "times_used": "62",
                                    "tag_name": "mathematics"
                                },
                                {
                                    "tag_id": "19445",
                                    "times_used": "54",
                                    "tag_name": "math"
                                },
                                {
                                    "tag_id": "26857",
                                    "times_used": "44",
                                    "tag_name": "science-math"
                                },
                                {
                                    "tag_id": "19450",
                                    "times_used": "41",
                                    "tag_name": "math-science"
                                },
                                {
                                    "tag_id": "26819",
                                    "times_used": "31",
                                    "tag_name": "science-and-math"
                                },
                                {
                                    "tag_id": "19446",
                                    "times_used": "15",
                                    "tag_name": "math-and-science"
                                },
                                {
                                    "tag_id": "26858",
                                    "times_used": "15",
                                    "tag_name": "science-mathematics"
                                },
                                {
                                    "tag_id": "19456",
                                    "times_used": "13",
                                    "tag_name": "maths"
                                },
                                {
                                    "tag_id": "19454",
                                    "times_used": "8",
                                    "tag_name": "mathew-reilly"
                                },
                                {
                                    "tag_id": "24795",
                                    "times_used": "4",
                                    "tag_name": "r-l-mathewson"
                                },
                                {
                                    "tag_id": "25976",
                                    "times_used": "4",
                                    "tag_name": "rl-mathewson"
                                },
                                {
                                    "tag_id": "19449",
                                    "times_used": "3",
                                    "tag_name": "math-physics"
                                },
                                {
                                    "tag_id": "23575",
                                    "times_used": "3",
                                    "tag_name": "physics-math"
                                },
                                {
                                    "tag_id": "25893",
                                    "times_used": "3",
                                    "tag_name": "richard-matheson"
                                },
                                {
                                    "tag_id": "26820",
                                    "times_used": "3",
                                    "tag_name": "science-and-maths"
                                },
                                {
                                    "tag_id": "23576",
                                    "times_used": "2",
                                    "tag_name": "physics-mathematics"
                                },
                                {
                                    "tag_id": "1791",
                                    "times_used": "1",
                                    "tag_name": "aftermath-of-the-sinking"
                                },
                                {
                                    "tag_id": "1792",
                                    "times_used": "1",
                                    "tag_name": "aftermath-of-the-sinking-of-the-tit"
                                },
                                {
                                    "tag_id": "2926",
                                    "times_used": "1",
                                    "tag_name": "aromatherapy-reiki"
                                },
                                {
                                    "tag_id": "19453",
                                    "times_used": "1",
                                    "tag_name": "matheson"
                                },
                                {
                                    "tag_id": "19448",
                                    "times_used": "1",
                                    "tag_name": "math-history"
                                },
                                {
                                    "tag_id": "19447",
                                    "times_used": "1",
                                    "tag_name": "math-books"
                                },
                                {
                                    "tag_id": "19451",
                                    "times_used": "1",
                                    "tag_name": "mathematical"
                                },
                                {
                                    "tag_id": "19457",
                                    "times_used": "1",
                                    "tag_name": "maths-science"
                                },
                                {
                                    "tag_id": "23957",
                                    "times_used": "1",
                                    "tag_name": "polymath"
                                },
                                {
                                    "tag_id": "19455",
                                    "times_used": "1",
                                    "tag_name": "mathias-malzieu"
                                },
                                {
                                    "tag_id": "26859",
                                    "times_used": "1",
                                    "tag_name": "science-maths"
                                },
                                {
                                    "tag_id": "19467",
                                    "times_used": "1",
                                    "tag_name": "matthew-mather"
                                }
                            ]
                        },
                        "text/html": [
                            "<table>",
                            "<tr><th>tag_id</th><th>times_used</th><th>tag_name</th></tr>",
                            "<tr><td>19452</td><td>62</td><td>mathematics</td></tr>",
                            "<tr><td>19445</td><td>54</td><td>math</td></tr>",
                            "<tr><td>26857</td><td>44</td><td>science-math</td></tr>",
                            "<tr><td>19450</td><td>41</td><td>math-science</td></tr>",
                            "<tr><td>26819</td><td>31</td><td>science-and-math</td></tr>",
                            "<tr><td>19446</td><td>15</td><td>math-and-science</td></tr>",
                            "<tr><td>26858</td><td>15</td><td>science-mathematics</td></tr>",
                            "<tr><td>19456</td><td>13</td><td>maths</td></tr>",
                            "<tr><td>19454</td><td>8</td><td>mathew-reilly</td></tr>",
                            "<tr><td>24795</td><td>4</td><td>r-l-mathewson</td></tr>",
                            "<tr><td>25976</td><td>4</td><td>rl-mathewson</td></tr>",
                            "<tr><td>19449</td><td>3</td><td>math-physics</td></tr>",
                            "<tr><td>23575</td><td>3</td><td>physics-math</td></tr>",
                            "<tr><td>25893</td><td>3</td><td>richard-matheson</td></tr>",
                            "<tr><td>26820</td><td>3</td><td>science-and-maths</td></tr>",
                            "<tr><td>23576</td><td>2</td><td>physics-mathematics</td></tr>",
                            "<tr><td>1791</td><td>1</td><td>aftermath-of-the-sinking</td></tr>",
                            "<tr><td>1792</td><td>1</td><td>aftermath-of-the-sinking-of-the-tit</td></tr>",
                            "<tr><td>2926</td><td>1</td><td>aromatherapy-reiki</td></tr>",
                            "<tr><td>19453</td><td>1</td><td>matheson</td></tr>",
                            "<tr><td>19448</td><td>1</td><td>math-history</td></tr>",
                            "<tr><td>19447</td><td>1</td><td>math-books</td></tr>",
                            "<tr><td>19451</td><td>1</td><td>mathematical</td></tr>",
                            "<tr><td>19457</td><td>1</td><td>maths-science</td></tr>",
                            "<tr><td>23957</td><td>1</td><td>polymath</td></tr>",
                            "<tr><td>19455</td><td>1</td><td>mathias-malzieu</td></tr>",
                            "<tr><td>26859</td><td>1</td><td>science-maths</td></tr>",
                            "<tr><td>19467</td><td>1</td><td>matthew-mather</td></tr>",
                            "</table>"
                        ]
                    }
                }
            ],
            "execution_count": 17
        },
        {
            "cell_type": "code",
            "source": [
                "SELECT TOP(20) b.authors,b.title,b.average_rating,t.tag_id\n",
                "FROM BooksDB.dbo.books AS b \n",
                "INNER  JOIN  BooksDB.dbo.book_tags AS t \n",
                "ON b.book_id= t.goodreads_book_id\n",
                "WHERE t.tag_id =119445\n",
                "ORDER BY t.tag_id,b.average_rating DESC;"
            ],
            "metadata": {
                "language": "sql",
                "azdata_cell_guid": "5c296aef-6ced-4338-a3a4-ae4f02143c0d"
            },
            "outputs": [
                {
                    "output_type": "display_data",
                    "data": {
                        "text/html": "(0 rows affected)"
                    },
                    "metadata": {}
                },
                {
                    "output_type": "display_data",
                    "data": {
                        "text/html": "Total execution time: 00:00:00.124"
                    },
                    "metadata": {}
                },
                {
                    "output_type": "execute_result",
                    "metadata": {},
                    "execution_count": 18,
                    "data": {
                        "application/vnd.dataresource+json": {
                            "schema": {
                                "fields": [
                                    {
                                        "name": "authors"
                                    },
                                    {
                                        "name": "title"
                                    },
                                    {
                                        "name": "average_rating"
                                    },
                                    {
                                        "name": "tag_id"
                                    }
                                ]
                            },
                            "data": []
                        },
                        "text/html": [
                            "<table>",
                            "<tr><th>authors</th><th>title</th><th>average_rating</th><th>tag_id</th></tr>",
                            "</table>"
                        ]
                    }
                }
            ],
            "execution_count": 18
        },
        {
            "cell_type": "markdown",
            "source": [
                "# Part 2: Choose Another Month\n",
                "\n",
                "Choose another month and plan at least 2 events / promotions and answer the following questions.\n",
                "\n",
                "Which month did you choose?  \n",
                "\n",
                "What 2 events / promotions are you highlighting?\n",
                "\n",
                "> 1.\n",
                "\n",
                "> 2."
            ],
            "metadata": {
                "azdata_cell_guid": "3eaf376d-9de3-4553-a9d0-9caf74ee3d6a"
            },
            "attachments": {}
        },
        {
            "cell_type": "code",
            "source": [
                ""
            ],
            "metadata": {
                "azdata_cell_guid": "4a70836f-8a7f-4a72-855d-da4b70656e22",
                "language": "sql"
            },
            "outputs": [],
            "execution_count": null
        },
        {
            "cell_type": "markdown",
            "source": [
                "# Part 3: Summarize your Work\n",
                "\n",
                "For each event write at least one query that joins any two tables in the BooksDB to support your choice and record you thoughts as to why you used the paticlular query. At least one of your queries needs to include a HAVING clause."
            ],
            "metadata": {
                "azdata_cell_guid": "1ba1363a-4f02-4962-a95a-93b80c5926b1"
            },
            "attachments": {}
        },
        {
            "cell_type": "code",
            "source": [
                "-- Event 1 Query"
            ],
            "metadata": {
                "azdata_cell_guid": "f50d32ce-4cb2-4af2-acb1-607777a76cf8",
                "language": "sql"
            },
            "outputs": [],
            "execution_count": null
        },
        {
            "cell_type": "code",
            "source": [
                ""
            ],
            "metadata": {
                "azdata_cell_guid": "5606f7f2-c46b-42d3-ac64-7ae21c3394f8",
                "language": "sql"
            },
            "outputs": [],
            "execution_count": null
        },
        {
            "cell_type": "markdown",
            "source": [
                "### **Summary of event 1:**\n",
                "\n",
                "Double Click to edit."
            ],
            "metadata": {
                "azdata_cell_guid": "3bc72d4c-077b-42d3-9528-9aff8e7b6cf3"
            },
            "attachments": {}
        },
        {
            "cell_type": "code",
            "source": [
                "-- Event 2 Query"
            ],
            "metadata": {
                "azdata_cell_guid": "dca0a98f-065f-4b0e-9d93-fcb01cad668c",
                "language": "sql"
            },
            "outputs": [],
            "execution_count": null
        },
        {
            "cell_type": "code",
            "source": [
                ""
            ],
            "metadata": {
                "azdata_cell_guid": "3aaae3a8-eff7-4b37-8970-2d913a67239b",
                "language": "sql"
            },
            "outputs": [],
            "execution_count": null
        },
        {
            "cell_type": "markdown",
            "source": [
                "### **Summary of event 2:**\n",
                "\n",
                "Double Click to edit."
            ],
            "metadata": {
                "azdata_cell_guid": "99d518dc-cd8b-42d6-9a9d-708771c9aa99"
            },
            "attachments": {}
        }
    ]
}